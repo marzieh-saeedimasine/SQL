{
 "cells": [
  {
   "cell_type": "code",
   "execution_count": null,
   "id": "277feed3-a84c-4ee8-8447-1221ef36ada0",
   "metadata": {},
   "outputs": [],
   "source": [
    "1. SELECT: Retrieve specific columns from a table\n",
    "SELECT column1, column2 FROM table_name;\n",
    "\n",
    "2. WHERE: Filter rows based on a condition\n",
    "SELECT * FROM table_name WHERE condition;\n",
    "\n",
    "3. DISTINCT: Retrieve distinct values from a column\n",
    "SELECT DISTINCT column_name FROM table_name;\n",
    "\n",
    "4. LIKE: Search for a specified pattern in a column\n",
    "SELECT * FROM table_name WHERE column_name LIKE 'pattern';\n",
    "\n",
    "5. ORDER BY: Sort the result set in ascending or descending order\n",
    "SELECT * FROM table_name ORDER BY column_name ASC|DESC;\n",
    "\n",
    "6. Summary Analytics (MIN, MAX, AVG, Group By): Perform summary analytics\n",
    "SELECT MIN(column_name), MAX(column_name), AVG(column_name) FROM table_name GROUP BY grouping_column;\n",
    "\n",
    "7. HAVING clause: Filter results of a GROUP BY query\n",
    "SELECT column_name, COUNT(*) FROM table_name GROUP BY column_name HAVING COUNT(*) > 1;\n",
    "\n",
    "8. Calculated Columns: Create calculated columns in the SELECT statement\n",
    "SELECT column1, column2, column1 + column2 AS calculated_column FROM table_name;\n",
    "\n",
    "9. SQL Joins: Combine rows from two tables based on a related column\n",
    "SELECT * FROM table1 INNER JOIN table2 ON table1.column_name = table2.column_name;\n"
   ]
  }
 ],
 "metadata": {
  "kernelspec": {
   "display_name": "Python 3 (ipykernel)",
   "language": "python",
   "name": "python3"
  },
  "language_info": {
   "codemirror_mode": {
    "name": "ipython",
    "version": 3
   },
   "file_extension": ".py",
   "mimetype": "text/x-python",
   "name": "python",
   "nbconvert_exporter": "python",
   "pygments_lexer": "ipython3",
   "version": "3.11.5"
  }
 },
 "nbformat": 4,
 "nbformat_minor": 5
}
